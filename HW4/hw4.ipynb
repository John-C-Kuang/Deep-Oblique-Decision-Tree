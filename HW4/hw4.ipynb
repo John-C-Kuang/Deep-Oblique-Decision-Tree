{
 "cells": [
  {
   "attachments": {},
   "cell_type": "markdown",
   "metadata": {},
   "source": [
    "## HW4\n"
   ]
  },
  {
   "cell_type": "code",
   "execution_count": 30,
   "metadata": {},
   "outputs": [],
   "source": [
    "import pandas as pd\n",
    "import numpy as np\n",
    "from collections import Counter\n",
    "from utils import ml_utils\n",
    "from typing import Callable, Union, Any\n",
    "\n"
   ]
  },
  {
   "cell_type": "code",
   "execution_count": 31,
   "metadata": {},
   "outputs": [],
   "source": [
    "test = pd.read_csv('data/spotify_test.csv')\n",
    "train = pd.read_csv('data/spotify_train.csv')"
   ]
  },
  {
   "attachments": {},
   "cell_type": "markdown",
   "metadata": {},
   "source": [
    "# Part B\n"
   ]
  },
  {
   "cell_type": "code",
   "execution_count": 32,
   "metadata": {},
   "outputs": [],
   "source": [
    "def calc_accuracy(y_pred, y_actual):\n",
    "    correct_cnt = 0\n",
    "    total = len(y_actual)\n",
    "    #assume that y_pred and y_actual have same length\n",
    "\n",
    "    for i in range(len(y_actual)):\n",
    "        pre = y_pred[i]\n",
    "        act = y_actual[i]\n",
    "        if pre == act:\n",
    "            correct_cnt += 1\n",
    "    \n",
    "    return correct_cnt/total\n",
    "\n",
    "def n_folds(folds,train):\n",
    "    for f in range(folds):\n",
    "        train_fold = train[train.index % folds != f]\n",
    "        valid_fold = train[train.index % folds == f]\n",
    "    return train_fold, valid_fold\n",
    "\n",
    "# def tokenize(x):\n",
    "#     #tokenize the predict output to int\n",
    "#     dic = {'hip-hop' : 0, 'pop': 1, 'rock': 2}\n",
    "#     y = dic[x]\n",
    "#     return y\n",
    "\n",
    "# tokenized_pred = np.array(list(map(tokenize, y_pred)))\n",
    "# tokenized_actual = np.array(list(map(tokenize, y_actual)))\n",
    "# print(tokenized_actual)\n",
    "\n",
    "def predict_data(data,tree):\n",
    "    # given a subset dataframe as test data, predict its output alongside with its original answer\n",
    "    y_actual = data['track_genre'].to_numpy()\n",
    "    #apply decision tree prediction to each of the row \n",
    "    y_pred = data.apply(lambda row: tree.predict(row), axis = 1).to_numpy()\n",
    "\n",
    "    return y_actual, y_pred\n",
    "\n",
    "def apply_DTree(train: pd.DataFrame,\n",
    "                validation: pd.DataFrame,\n",
    "                test: pd.DataFrame,\n",
    "                impurity_func: str,\n",
    "                discrete_threshold: int = 10,\n",
    "                max_depth: int = None,\n",
    "                min_instances: int = 2,\n",
    "                target_impurity: float = 0.0\n",
    "                ):\n",
    "    \n",
    "    impurity_func = ml_utils.metric.entropy if str == 'entropy'   else  ml_utils.metric.gini\n",
    "    tree = ml_utils.experimental.DecisionTree(discrete_threshold=discrete_threshold,\n",
    "                                            max_depth=max_depth,\n",
    "                                            min_instances=min_instances,\n",
    "                                            target_impurity=target_impurity,\n",
    "                                            impurity_func=impurity_func)\n",
    "    tree.train(train,'track_genre')\n",
    "    validation_accuracy = 'N/A'\n",
    "    test_accuracy = 'N/A'\n",
    "    if(validation is not None):\n",
    "        validation_accuracy = calc_accuracy(*predict_data(validation,tree))\n",
    "    if(test is not None):\n",
    "        test_accuracy = calc_accuracy(*predict_data(test,tree))\n",
    "\n",
    "    return validation_accuracy, test_accuracy\n",
    "\n",
    "\n"
   ]
  },
  {
   "cell_type": "code",
   "execution_count": 33,
   "metadata": {},
   "outputs": [
    {
     "name": "stdout",
     "output_type": "stream",
     "text": [
      "Training with: impurity_func: entropy, max_depth: 5, min_instances: 2, target_impurity: 0\n"
     ]
    }
   ],
   "source": [
    "#An example of the accuracy in 10 fold cross validation on trained modal, comparing with accuracy in test data.\n",
    "\n",
    "\n",
    "train_fold, valid_fold = n_folds(10,train)\n",
    "print('Training with: impurity_func: {}, max_depth: {}, min_instances: {}, target_impurity: {}'\n",
    "          .format( 'entropy',5,2,0))\n",
    "validation_accuracy, test_accuracy = apply_DTree(train = train_fold,\n",
    "            validation = valid_fold,\n",
    "            test = test,\n",
    "            impurity_func = 'entropy',\n",
    "            discrete_threshold = 10,\n",
    "            max_depth = 5,\n",
    "            min_instances = 2,\n",
    "            target_impurity = 0)\n",
    "print('Result: Validation accuray: {} || Test accuray: {} \\n'.format(validation_accuracy,test_accuracy))\n"
   ]
  },
  {
   "attachments": {},
   "cell_type": "markdown",
   "metadata": {},
   "source": [
    "# Part C"
   ]
  },
  {
   "cell_type": "code",
   "execution_count": null,
   "metadata": {},
   "outputs": [],
   "source": [
    "\n",
    "# row = {'impurity_func': 1, 'max_depth': 1, 'min_instances': 1, 'target_impurity': 1,'validation_accuracy': validation_accuracy,'test_accuracy': test_accuracy}\n",
    "# row2 = {'impurity_func': 1, 'max_depth': 1, 'min_instances': 1, 'target_impurity': 1,'validation_accuracy': validation_accuracy,'test_accuracy': test_accuracy}\n",
    "# records = records.append(row,ignore_index=True)\n",
    "# records = records.append(row2,ignore_index=True)\n",
    "# records"
   ]
  },
  {
   "cell_type": "code",
   "execution_count": null,
   "metadata": {},
   "outputs": [],
   "source": [
    "train_fold, valid_fold = n_folds(10,train)\n",
    "# impurity_funcs = [ml_utils.metric.entropy,ml_utils.metric.gini]\n",
    "impurity_funcs = ['entorpy','gini']\n",
    "def para_tuning():\n",
    "    records = pd.DataFrame(columns= ['impurity_func', 'max_depth', 'min_instances', 'target_impurity','validation_accuracy','test_accuracy'])\n",
    "    for max_depth in range(10,25):\n",
    "        for min_instances in range(2, 8):\n",
    "            for target_impurity in np.arange(0,1,0.2):\n",
    "                for impurity_func in impurity_funcs:\n",
    "                    try:\n",
    "                        validation_accuracy, test_accuracy =apply_DTree(train = train_fold,\n",
    "                                    validation = valid_fold,\n",
    "                                    test = None,\n",
    "                                    impurity_func = impurity_func,\n",
    "                                    discrete_threshold = 10,\n",
    "                                    max_depth = max_depth,\n",
    "                                    min_instances = min_instances,\n",
    "                                    target_impurity = target_impurity)\n",
    "                        row = {'impurity_func': impurity_func, 'max_depth': max_depth, 'min_instances': min_instances, 'target_impurity': target_impurity,'validation_accuracy': validation_accuracy,'test_accuracy': test_accuracy}\n",
    "                        records = records.append(row,ignore_index=True)\n",
    "                    except:\n",
    "                        print('Failed with: impurity_func: {}, max_depth: {}, min_instances: {}, target_impurity: {}'.format(impurity_func,max_depth,min_instances,target_impurity))\n",
    "    return records"
   ]
  },
  {
   "cell_type": "code",
   "execution_count": null,
   "metadata": {},
   "outputs": [],
   "source": [
    "records =para_tuning()\n",
    "records"
   ]
  }
 ],
 "metadata": {
  "kernelspec": {
   "display_name": "base",
   "language": "python",
   "name": "python3"
  },
  "language_info": {
   "codemirror_mode": {
    "name": "ipython",
    "version": 3
   },
   "file_extension": ".py",
   "mimetype": "text/x-python",
   "name": "python",
   "nbconvert_exporter": "python",
   "pygments_lexer": "ipython3",
   "version": "3.9.13"
  },
  "orig_nbformat": 4
 },
 "nbformat": 4,
 "nbformat_minor": 2
}
