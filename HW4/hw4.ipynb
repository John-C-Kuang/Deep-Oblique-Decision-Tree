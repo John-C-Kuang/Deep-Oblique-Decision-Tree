{
 "cells": [
  {
   "attachments": {},
   "cell_type": "markdown",
   "metadata": {
    "pycharm": {
     "name": "#%% md\n"
    }
   },
   "source": [
    "## HW4\n"
   ]
  },
  {
   "cell_type": "code",
   "execution_count": 116,
   "metadata": {
    "pycharm": {
     "name": "#%%\n"
    }
   },
   "outputs": [],
   "source": [
    "import pandas as pd\n",
    "import numpy as np\n",
    "from utils import ml_utils\n",
    "\n",
    "from tqdm.contrib.itertools import product"
   ]
  },
  {
   "cell_type": "code",
   "execution_count": 117,
   "metadata": {
    "pycharm": {
     "name": "#%%\n"
    }
   },
   "outputs": [
    {
     "name": "stdout",
     "output_type": "stream",
     "text": [
      "     popularity  duration_ms  explicit  danceability  energy  key  loudness  \\\n",
      "0             0       169756     False         0.601   0.713    4    -3.758   \n",
      "1            66        87133     False         0.638   0.324    0    -7.787   \n",
      "2             1       242640     False         0.660   0.752    6    -5.839   \n",
      "3            71       242628     False         0.697   0.663    6    -7.246   \n",
      "4             0       214733     False         0.552   0.823    2    -5.988   \n",
      "..          ...          ...       ...           ...     ...  ...       ...   \n",
      "995          82       229525     False         0.689   0.481   10    -7.503   \n",
      "996           0       243057     False         0.503   0.582    0    -4.324   \n",
      "997          68       172960     False         0.361   0.871    8    -4.313   \n",
      "998          66       320040     False         0.465   0.822    8    -4.826   \n",
      "999           0       208626     False         0.664   0.783    9    -6.602   \n",
      "\n",
      "     mode  speechiness  acousticness  instrumentalness  liveness  valence  \\\n",
      "0       0       0.0449       0.02820          0.000000    0.1580    0.464   \n",
      "1       0       0.0321       0.92300          0.000034    0.1510    0.446   \n",
      "2       1       0.0487       0.25100          0.003980    0.3220    0.934   \n",
      "3       1       0.0486       0.07010          0.000010    0.1120    0.407   \n",
      "4       1       0.0332       0.44500          0.000129    0.3660    0.775   \n",
      "..    ...          ...           ...               ...       ...      ...   \n",
      "995     1       0.0815       0.36900          0.000001    0.0649    0.283   \n",
      "996     1       0.0253       0.47200          0.000000    0.1030    0.326   \n",
      "997     1       0.0393       0.01190          0.000000    0.3180    0.575   \n",
      "998     0       0.0660       0.13600          0.000442    0.0898    0.405   \n",
      "999     0       0.0321       0.00531          0.327000    0.0245    0.976   \n",
      "\n",
      "       tempo  time_signature track_genre  \n",
      "0    122.872               4         pop  \n",
      "1    129.932               4         pop  \n",
      "2    159.684               4        rock  \n",
      "3     96.968               4     hip-hop  \n",
      "4    114.514               4        rock  \n",
      "..       ...             ...         ...  \n",
      "995   80.025               4         pop  \n",
      "996   77.321               4        rock  \n",
      "997  176.026               4        rock  \n",
      "998   89.761               4         pop  \n",
      "999  100.204               4        rock  \n",
      "\n",
      "[1000 rows x 16 columns]\n"
     ]
    }
   ],
   "source": [
    "test = pd.read_csv('data/spotify_test.csv')\n",
    "train = pd.read_csv('data/spotify_train.csv')\n",
    "print(test)\n"
   ]
  },
  {
   "cell_type": "code",
   "execution_count": 120,
   "metadata": {
    "pycharm": {
     "name": "#%%\n"
    }
   },
   "outputs": [
    {
     "name": "stdout",
     "output_type": "stream",
     "text": [
      "789\n",
      "1462\n"
     ]
    }
   ],
   "source": [
    "test.drop_duplicates(keep=False, inplace=True,subset=test.columns.difference(['track_genre']))\n",
    "train.drop_duplicates(keep=False, inplace=True, subset=train.columns.difference(['track_genre']))"
   ]
  },
  {
   "attachments": {},
   "cell_type": "markdown",
   "metadata": {
    "pycharm": {
     "name": "#%% md\n"
    }
   },
   "source": [
    "# Part A\n",
    "**Decision Tree** \\\n",
    "The decision tree modal implementation is in utils\\ml_utils\\experimental.py.\\\n",
    "The _DTreeNode class is used for representing the nodes on a decision tree which track left and right subtrees as well as information such as the splitting columns. We can use build_tree function to recursively construct the tree given the dataset, and the predict function after the tree is trained.\\\n",
    "Meanwhile, the DecisionTree class is used for processing parameters described in hw4 pdf PartA, to train and predict the decision tree constructed using _DTreeNode class. \\\n",
    "\\\n",
    "The implementation of gini and entropy are resides in utils\\ml_utils\\metric.py which will be used by our Decision tree modal"
   ]
  },
  {
   "cell_type": "code",
   "execution_count": 29,
   "metadata": {
    "pycharm": {
     "name": "#%%\n"
    }
   },
   "outputs": [],
   "source": [
    "# Given the prediction and actual label, calculate the accuracy of our modal\n",
    "def calc_accuracy(y_pred, y_actual):\n",
    "    correct_cnt = 0\n",
    "    total = len(y_actual)\n",
    "    #assume that y_pred and y_actual have same length\n",
    "\n",
    "    for i in range(len(y_actual)):\n",
    "        pre = y_pred[i]\n",
    "        act = y_actual[i]\n",
    "        if pre == act:\n",
    "            correct_cnt += 1\n",
    "    \n",
    "    return correct_cnt/total\n",
    "\n",
    "# function given by lab, used to perform 10 fold cross validation\n",
    "def n_folds(folds,train):\n",
    "    for f in range(folds):\n",
    "        train_fold = train[train.index % folds != f]\n",
    "        valid_fold = train[train.index % folds == f]\n",
    "    return train_fold, valid_fold\n",
    "\n",
    "def predict_data(data,tree):\n",
    "    # given a subset dataframe as test data, predict its output alongside with its original answer\n",
    "    y_actual = data['track_genre'].to_numpy()\n",
    "    #apply decision tree prediction to each of the row \n",
    "    y_pred = data.apply(lambda row: tree.predict(row), axis = 1).to_numpy()\n",
    "\n",
    "    return y_actual, y_pred\n",
    "\n",
    "# function for apllying modals with different hyperparameters. \n",
    "def apply_DTree(train: pd.DataFrame,\n",
    "                validation: pd.DataFrame,\n",
    "                test: pd.DataFrame,\n",
    "                impurity_func: str,\n",
    "                discrete_threshold: int = 10,\n",
    "                max_depth: int = None,\n",
    "                min_instances: int = 2,\n",
    "                target_impurity: float = 0.0\n",
    "                ):\n",
    "    \n",
    "    impurity_func = ml_utils.metric.entropy if impurity_func == 'entropy'   else  ml_utils.metric.gini\n",
    "    tree = ml_utils.experimental.DecisionTree(discrete_threshold=discrete_threshold,\n",
    "                                            max_depth=max_depth,\n",
    "                                            min_instances=min_instances,\n",
    "                                            target_impurity=target_impurity,\n",
    "                                            impurity_func=impurity_func)\n",
    "    tree.train(train,'track_genre')\n",
    "    validation_accuracy = 'N/A'\n",
    "    test_accuracy = 'N/A'\n",
    "    if validation is not None:\n",
    "        validation_accuracy = calc_accuracy(*predict_data(validation,tree))\n",
    "    if test is not None:\n",
    "        test_accuracy = calc_accuracy(*predict_data(test,tree))\n",
    "\n",
    "    return validation_accuracy, test_accuracy\n",
    "\n",
    "\n"
   ]
  },
  {
   "attachments": {},
   "cell_type": "markdown",
   "metadata": {
    "pycharm": {
     "name": "#%% md\n"
    }
   },
   "source": [
    "# Part B"
   ]
  },
  {
   "cell_type": "code",
   "execution_count": 138,
   "metadata": {
    "pycharm": {
     "name": "#%%\n"
    }
   },
   "outputs": [
    {
     "name": "stdout",
     "output_type": "stream",
     "text": [
      "Training with: impurity_func: entropy, max_depth: 20, min_instances: 2, target_impurity: 0\n",
      "Result: Validation accuray: 0.7346938775510204 || Test accuray: 0.6730038022813688 \n",
      "\n"
     ]
    }
   ],
   "source": [
    "#An example of the accuracy in 10 fold cross validation on trained modal, comparing with accuracy in test data.\n",
    "train_fold, valid_fold = n_folds(10,train)\n",
    "print('Training with: impurity_func: {}, max_depth: {}, min_instances: {}, target_impurity: {}'\n",
    "          .format( 'entropy',20,2,0))\n",
    "validation_accuracy, test_accuracy = apply_DTree(train = train_fold,\n",
    "            validation = valid_fold,\n",
    "            test = test,\n",
    "            impurity_func = 'entropy',\n",
    "            discrete_threshold = 10,\n",
    "            max_depth = 10,\n",
    "            min_instances = 4,\n",
    "            target_impurity = 0)\n",
    "print('Result: Validation accuray: {} || Test accuray: {} \\n'.format(validation_accuracy,test_accuracy))\n"
   ]
  },
  {
   "attachments": {},
   "cell_type": "markdown",
   "metadata": {
    "pycharm": {
     "name": "#%% md\n"
    }
   },
   "source": [
    "# Part C"
   ]
  },
  {
   "cell_type": "code",
   "execution_count": 132,
   "metadata": {
    "pycharm": {
     "name": "#%%\n"
    }
   },
   "outputs": [],
   "source": [
    "def para_tuning():\n",
    "\n",
    "    #10 fold cross validation\n",
    "    train_fold, valid_fold = n_folds(10,train)\n",
    "\n",
    "    # finding the best hyperparameter combo and record them in a dataframe\n",
    "    impurity_funcs = ['entorpy','gini']\n",
    "    records = pd.DataFrame(columns= ['impurity_func', 'max_depth', 'min_instances', 'target_impurity','validation_accuracy','test_accuracy'])\n",
    "    for max_depth ,min_instances, target_impurity, impurity_func in product(range(5,30,2), range(2,12,2),np.arange(0,0.2,0.05),impurity_funcs):   \n",
    "                    try:\n",
    "                        validation_accuracy, test_accuracy =apply_DTree(train = train_fold,\n",
    "                                    validation = valid_fold,\n",
    "                                    test = None,\n",
    "                                    impurity_func = impurity_func,\n",
    "                                    discrete_threshold = 10,\n",
    "                                    max_depth = max_depth,\n",
    "                                    min_instances = min_instances,\n",
    "                                    target_impurity = target_impurity)\n",
    "                        row = {'impurity_func': impurity_func, 'max_depth': max_depth, 'min_instances': min_instances, 'target_impurity': target_impurity,'validation_accuracy': validation_accuracy,'test_accuracy': test_accuracy}\n",
    "                        records = pd.concat([records,pd.DataFrame(row,index=[len(records)])])\n",
    "                    except:\n",
    "                        print('Failed with: impurity_func: {}, max_depth: {}, min_instances: {}, target_impurity: {}'.format(impurity_func,max_depth,min_instances,target_impurity))\n",
    "    return records"
   ]
  },
  {
   "cell_type": "code",
   "execution_count": 133,
   "metadata": {
    "pycharm": {
     "name": "#%%\n"
    }
   },
   "outputs": [
    {
     "data": {
      "application/vnd.jupyter.widget-view+json": {
       "model_id": "67116685ca5e47a1a4d8fcf95a02c7eb",
       "version_major": 2,
       "version_minor": 0
      },
      "text/plain": [
       "  0%|          | 0/260 [00:00<?, ?it/s]"
      ]
     },
     "metadata": {},
     "output_type": "display_data"
    },
    {
     "data": {
      "text/html": [
       "<div>\n",
       "<style scoped>\n",
       "    .dataframe tbody tr th:only-of-type {\n",
       "        vertical-align: middle;\n",
       "    }\n",
       "\n",
       "    .dataframe tbody tr th {\n",
       "        vertical-align: top;\n",
       "    }\n",
       "\n",
       "    .dataframe thead th {\n",
       "        text-align: right;\n",
       "    }\n",
       "</style>\n",
       "<table border=\"1\" class=\"dataframe\">\n",
       "  <thead>\n",
       "    <tr style=\"text-align: right;\">\n",
       "      <th></th>\n",
       "      <th>impurity_func</th>\n",
       "      <th>max_depth</th>\n",
       "      <th>min_instances</th>\n",
       "      <th>target_impurity</th>\n",
       "      <th>validation_accuracy</th>\n",
       "      <th>test_accuracy</th>\n",
       "    </tr>\n",
       "  </thead>\n",
       "  <tbody>\n",
       "    <tr>\n",
       "      <th>0</th>\n",
       "      <td>entorpy</td>\n",
       "      <td>5</td>\n",
       "      <td>2</td>\n",
       "      <td>0.00</td>\n",
       "      <td>0.680272</td>\n",
       "      <td>N/A</td>\n",
       "    </tr>\n",
       "    <tr>\n",
       "      <th>1</th>\n",
       "      <td>entorpy</td>\n",
       "      <td>5</td>\n",
       "      <td>2</td>\n",
       "      <td>0.05</td>\n",
       "      <td>0.687075</td>\n",
       "      <td>N/A</td>\n",
       "    </tr>\n",
       "    <tr>\n",
       "      <th>2</th>\n",
       "      <td>entorpy</td>\n",
       "      <td>5</td>\n",
       "      <td>2</td>\n",
       "      <td>0.10</td>\n",
       "      <td>0.687075</td>\n",
       "      <td>N/A</td>\n",
       "    </tr>\n",
       "    <tr>\n",
       "      <th>3</th>\n",
       "      <td>entorpy</td>\n",
       "      <td>5</td>\n",
       "      <td>2</td>\n",
       "      <td>0.15</td>\n",
       "      <td>0.680272</td>\n",
       "      <td>N/A</td>\n",
       "    </tr>\n",
       "    <tr>\n",
       "      <th>4</th>\n",
       "      <td>entorpy</td>\n",
       "      <td>5</td>\n",
       "      <td>4</td>\n",
       "      <td>0.00</td>\n",
       "      <td>0.687075</td>\n",
       "      <td>N/A</td>\n",
       "    </tr>\n",
       "    <tr>\n",
       "      <th>...</th>\n",
       "      <td>...</td>\n",
       "      <td>...</td>\n",
       "      <td>...</td>\n",
       "      <td>...</td>\n",
       "      <td>...</td>\n",
       "      <td>...</td>\n",
       "    </tr>\n",
       "    <tr>\n",
       "      <th>255</th>\n",
       "      <td>entorpy</td>\n",
       "      <td>29</td>\n",
       "      <td>8</td>\n",
       "      <td>0.15</td>\n",
       "      <td>0.741497</td>\n",
       "      <td>N/A</td>\n",
       "    </tr>\n",
       "    <tr>\n",
       "      <th>256</th>\n",
       "      <td>entorpy</td>\n",
       "      <td>29</td>\n",
       "      <td>10</td>\n",
       "      <td>0.00</td>\n",
       "      <td>0.727891</td>\n",
       "      <td>N/A</td>\n",
       "    </tr>\n",
       "    <tr>\n",
       "      <th>257</th>\n",
       "      <td>entorpy</td>\n",
       "      <td>29</td>\n",
       "      <td>10</td>\n",
       "      <td>0.05</td>\n",
       "      <td>0.727891</td>\n",
       "      <td>N/A</td>\n",
       "    </tr>\n",
       "    <tr>\n",
       "      <th>258</th>\n",
       "      <td>entorpy</td>\n",
       "      <td>29</td>\n",
       "      <td>10</td>\n",
       "      <td>0.10</td>\n",
       "      <td>0.734694</td>\n",
       "      <td>N/A</td>\n",
       "    </tr>\n",
       "    <tr>\n",
       "      <th>259</th>\n",
       "      <td>entorpy</td>\n",
       "      <td>29</td>\n",
       "      <td>10</td>\n",
       "      <td>0.15</td>\n",
       "      <td>0.741497</td>\n",
       "      <td>N/A</td>\n",
       "    </tr>\n",
       "  </tbody>\n",
       "</table>\n",
       "<p>260 rows × 6 columns</p>\n",
       "</div>"
      ],
      "text/plain": [
       "    impurity_func max_depth min_instances  target_impurity  \\\n",
       "0         entorpy         5             2             0.00   \n",
       "1         entorpy         5             2             0.05   \n",
       "2         entorpy         5             2             0.10   \n",
       "3         entorpy         5             2             0.15   \n",
       "4         entorpy         5             4             0.00   \n",
       "..            ...       ...           ...              ...   \n",
       "255       entorpy        29             8             0.15   \n",
       "256       entorpy        29            10             0.00   \n",
       "257       entorpy        29            10             0.05   \n",
       "258       entorpy        29            10             0.10   \n",
       "259       entorpy        29            10             0.15   \n",
       "\n",
       "     validation_accuracy test_accuracy  \n",
       "0               0.680272           N/A  \n",
       "1               0.687075           N/A  \n",
       "2               0.687075           N/A  \n",
       "3               0.680272           N/A  \n",
       "4               0.687075           N/A  \n",
       "..                   ...           ...  \n",
       "255             0.741497           N/A  \n",
       "256             0.727891           N/A  \n",
       "257             0.727891           N/A  \n",
       "258             0.734694           N/A  \n",
       "259             0.741497           N/A  \n",
       "\n",
       "[260 rows x 6 columns]"
      ]
     },
     "execution_count": 133,
     "metadata": {},
     "output_type": "execute_result"
    }
   ],
   "source": [
    "records =para_tuning()\n",
    "records"
   ]
  },
  {
   "attachments": {},
   "cell_type": "markdown",
   "metadata": {
    "pycharm": {
     "name": "#%% md\n"
    }
   },
   "source": [
    "# Part D"
   ]
  },
  {
   "cell_type": "code",
   "execution_count": 134,
   "metadata": {
    "pycharm": {
     "name": "#%%\n"
    }
   },
   "outputs": [
    {
     "name": "stdout",
     "output_type": "stream",
     "text": [
      "impurity_func           entorpy\n",
      "max_depth                    11\n",
      "min_instances                 6\n",
      "target_impurity             0.1\n",
      "validation_accuracy    0.755102\n",
      "test_accuracy               N/A\n",
      "Name: 70, dtype: object\n"
     ]
    }
   ],
   "source": [
    "#Did not use test data in tuning or training (N/A in test_accuracy), here is the best hyperparameter we found on training data.\n",
    "best=records.loc[records['validation_accuracy'].idxmax()]\n",
    "print(best)"
   ]
  },
  {
   "cell_type": "code",
   "execution_count": 135,
   "metadata": {
    "pycharm": {
     "name": "#%%\n"
    }
   },
   "outputs": [
    {
     "name": "stdout",
     "output_type": "stream",
     "text": [
      "Training with: impurity_func: entorpy, max_depth: 11, min_instances: 6, target_impurity: 0.1\n",
      "Result: Validation accuray: 0.7551020408163265 || Test accuray: 0.6806083650190115 \n",
      "\n"
     ]
    }
   ],
   "source": [
    "#applying the best hyperparameters to find the accuracy on test.\n",
    "print('Training with: impurity_func: {}, max_depth: {}, min_instances: {}, target_impurity: {}'\n",
    "          .format( best['impurity_func'],best['max_depth'],best['min_instances'],best['target_impurity']))\n",
    "validation_accuracy, test_accuracy = apply_DTree(train = train_fold,\n",
    "            validation = valid_fold,\n",
    "            test = test,\n",
    "            impurity_func = best['impurity_func'],\n",
    "            discrete_threshold = 10,\n",
    "            max_depth = best['max_depth'],\n",
    "            min_instances = best['min_instances'],\n",
    "            target_impurity =  best['target_impurity'])\n",
    "print('Result: Validation accuray: {} || Test accuray: {} \\n'.format(validation_accuracy,test_accuracy))"
   ]
  }
 ],
 "metadata": {
  "kernelspec": {
   "display_name": "base",
   "language": "python",
   "name": "python3"
  },
  "language_info": {
   "codemirror_mode": {
    "name": "ipython",
    "version": 3
   },
   "file_extension": ".py",
   "mimetype": "text/x-python",
   "name": "python",
   "nbconvert_exporter": "python",
   "pygments_lexer": "ipython3",
   "version": "3.9.13"
  },
  "orig_nbformat": 4
 },
 "nbformat": 4,
 "nbformat_minor": 2
}